{
 "cells": [
  {
   "cell_type": "code",
   "execution_count": 1,
   "id": "a566ed8c",
   "metadata": {},
   "outputs": [],
   "source": [
    "import pandas as pd\n",
    "import numpy as np\n",
    "import jedi\n",
    "from sklearn.preprocessing import StandardScaler\n",
    "# from sklearn import metrics\n",
    "from sklearn.decomposition import PCA\n",
    "#from sklearn.model_selection import train_test_split\n",
    "import seaborn as sns\n",
    "\n",
    "# Visual libraries\n",
    "import matplotlib.pyplot as plt\n",
    "\n",
    "#Show all Columns and Rows\n",
    "pd.options.display.max_columns = None\n",
    "pd.options.display.max_rows = None\n",
    "\n",
    "# Load data set\n",
    "data_churn = pd.read_csv('churn_clean.csv')\n",
    "\n",
    "# Amend columns with no names\n",
    "data_churn = data_churn.rename(columns=({ 'Item1': 'Timely_Response', 'Item2':'Timely_Fixes', 'Item3':'Timely_Replacements', \n",
    "                         'Item4':'Reliability', 'Item5':'Options', 'Item6':'Respectful_Response',\n",
    "                         'Item7':'Courteous_Exchange', 'Item8':'Evidence_of_active_listening'}))"
   ]
  },
  {
   "cell_type": "markdown",
   "id": "1a2e7958",
   "metadata": {},
   "source": [
    "### Data Prep"
   ]
  },
  {
   "cell_type": "code",
   "execution_count": 2,
   "id": "a4c36873",
   "metadata": {},
   "outputs": [],
   "source": [
    "# Dropping columns that I think are not relavant to the analysis\n",
    "data_c = data_churn[['Outage_sec_perweek', 'Tenure', 'MonthlyCharge', 'Bandwidth_GB_Year', 'Churn']]"
   ]
  },
  {
   "cell_type": "code",
   "execution_count": 3,
   "id": "031b0db5",
   "metadata": {},
   "outputs": [
    {
     "data": {
      "text/html": [
       "<div>\n",
       "<style scoped>\n",
       "    .dataframe tbody tr th:only-of-type {\n",
       "        vertical-align: middle;\n",
       "    }\n",
       "\n",
       "    .dataframe tbody tr th {\n",
       "        vertical-align: top;\n",
       "    }\n",
       "\n",
       "    .dataframe thead th {\n",
       "        text-align: right;\n",
       "    }\n",
       "</style>\n",
       "<table border=\"1\" class=\"dataframe\">\n",
       "  <thead>\n",
       "    <tr style=\"text-align: right;\">\n",
       "      <th></th>\n",
       "      <th>Outage_sec_perweek</th>\n",
       "      <th>Tenure</th>\n",
       "      <th>MonthlyCharge</th>\n",
       "      <th>Bandwidth_GB_Year</th>\n",
       "      <th>Churn</th>\n",
       "    </tr>\n",
       "  </thead>\n",
       "  <tbody>\n",
       "    <tr>\n",
       "      <th>0</th>\n",
       "      <td>7.978323</td>\n",
       "      <td>6.795513</td>\n",
       "      <td>172.455519</td>\n",
       "      <td>904.536110</td>\n",
       "      <td>No</td>\n",
       "    </tr>\n",
       "    <tr>\n",
       "      <th>1</th>\n",
       "      <td>11.699080</td>\n",
       "      <td>1.156681</td>\n",
       "      <td>242.632554</td>\n",
       "      <td>800.982766</td>\n",
       "      <td>Yes</td>\n",
       "    </tr>\n",
       "    <tr>\n",
       "      <th>2</th>\n",
       "      <td>10.752800</td>\n",
       "      <td>15.754144</td>\n",
       "      <td>159.947583</td>\n",
       "      <td>2054.706961</td>\n",
       "      <td>No</td>\n",
       "    </tr>\n",
       "    <tr>\n",
       "      <th>3</th>\n",
       "      <td>14.913540</td>\n",
       "      <td>17.087227</td>\n",
       "      <td>119.956840</td>\n",
       "      <td>2164.579412</td>\n",
       "      <td>No</td>\n",
       "    </tr>\n",
       "    <tr>\n",
       "      <th>4</th>\n",
       "      <td>8.147417</td>\n",
       "      <td>1.670972</td>\n",
       "      <td>149.948316</td>\n",
       "      <td>271.493436</td>\n",
       "      <td>Yes</td>\n",
       "    </tr>\n",
       "  </tbody>\n",
       "</table>\n",
       "</div>"
      ],
      "text/plain": [
       "   Outage_sec_perweek     Tenure  MonthlyCharge  Bandwidth_GB_Year Churn\n",
       "0            7.978323   6.795513     172.455519         904.536110    No\n",
       "1           11.699080   1.156681     242.632554         800.982766   Yes\n",
       "2           10.752800  15.754144     159.947583        2054.706961    No\n",
       "3           14.913540  17.087227     119.956840        2164.579412    No\n",
       "4            8.147417   1.670972     149.948316         271.493436   Yes"
      ]
     },
     "execution_count": 3,
     "metadata": {},
     "output_type": "execute_result"
    }
   ],
   "source": [
    "data_c.head()"
   ]
  },
  {
   "cell_type": "code",
   "execution_count": 4,
   "id": "c514e68b",
   "metadata": {},
   "outputs": [],
   "source": [
    "# Dropping columns that I think are not relavant to the analysis\n",
    "data = data_churn[['Outage_sec_perweek', 'Tenure', 'MonthlyCharge', 'Bandwidth_GB_Year']]"
   ]
  },
  {
   "cell_type": "code",
   "execution_count": 5,
   "id": "3c56fba2",
   "metadata": {},
   "outputs": [
    {
     "data": {
      "text/html": [
       "<div>\n",
       "<style scoped>\n",
       "    .dataframe tbody tr th:only-of-type {\n",
       "        vertical-align: middle;\n",
       "    }\n",
       "\n",
       "    .dataframe tbody tr th {\n",
       "        vertical-align: top;\n",
       "    }\n",
       "\n",
       "    .dataframe thead th {\n",
       "        text-align: right;\n",
       "    }\n",
       "</style>\n",
       "<table border=\"1\" class=\"dataframe\">\n",
       "  <thead>\n",
       "    <tr style=\"text-align: right;\">\n",
       "      <th></th>\n",
       "      <th>Outage_sec_perweek</th>\n",
       "      <th>Tenure</th>\n",
       "      <th>MonthlyCharge</th>\n",
       "      <th>Bandwidth_GB_Year</th>\n",
       "    </tr>\n",
       "  </thead>\n",
       "  <tbody>\n",
       "    <tr>\n",
       "      <th>count</th>\n",
       "      <td>10000.000000</td>\n",
       "      <td>10000.000000</td>\n",
       "      <td>10000.000000</td>\n",
       "      <td>10000.000000</td>\n",
       "    </tr>\n",
       "    <tr>\n",
       "      <th>mean</th>\n",
       "      <td>10.001848</td>\n",
       "      <td>34.526188</td>\n",
       "      <td>172.624816</td>\n",
       "      <td>3392.341550</td>\n",
       "    </tr>\n",
       "    <tr>\n",
       "      <th>std</th>\n",
       "      <td>2.976019</td>\n",
       "      <td>26.443063</td>\n",
       "      <td>42.943094</td>\n",
       "      <td>2185.294852</td>\n",
       "    </tr>\n",
       "    <tr>\n",
       "      <th>min</th>\n",
       "      <td>0.099747</td>\n",
       "      <td>1.000259</td>\n",
       "      <td>79.978860</td>\n",
       "      <td>155.506715</td>\n",
       "    </tr>\n",
       "    <tr>\n",
       "      <th>25%</th>\n",
       "      <td>8.018214</td>\n",
       "      <td>7.917694</td>\n",
       "      <td>139.979239</td>\n",
       "      <td>1236.470827</td>\n",
       "    </tr>\n",
       "    <tr>\n",
       "      <th>50%</th>\n",
       "      <td>10.018560</td>\n",
       "      <td>35.430507</td>\n",
       "      <td>167.484700</td>\n",
       "      <td>3279.536903</td>\n",
       "    </tr>\n",
       "    <tr>\n",
       "      <th>75%</th>\n",
       "      <td>11.969485</td>\n",
       "      <td>61.479795</td>\n",
       "      <td>200.734725</td>\n",
       "      <td>5586.141370</td>\n",
       "    </tr>\n",
       "    <tr>\n",
       "      <th>max</th>\n",
       "      <td>21.207230</td>\n",
       "      <td>71.999280</td>\n",
       "      <td>290.160419</td>\n",
       "      <td>7158.981530</td>\n",
       "    </tr>\n",
       "  </tbody>\n",
       "</table>\n",
       "</div>"
      ],
      "text/plain": [
       "       Outage_sec_perweek        Tenure  MonthlyCharge  Bandwidth_GB_Year\n",
       "count        10000.000000  10000.000000   10000.000000       10000.000000\n",
       "mean            10.001848     34.526188     172.624816        3392.341550\n",
       "std              2.976019     26.443063      42.943094        2185.294852\n",
       "min              0.099747      1.000259      79.978860         155.506715\n",
       "25%              8.018214      7.917694     139.979239        1236.470827\n",
       "50%             10.018560     35.430507     167.484700        3279.536903\n",
       "75%             11.969485     61.479795     200.734725        5586.141370\n",
       "max             21.207230     71.999280     290.160419        7158.981530"
      ]
     },
     "execution_count": 5,
     "metadata": {},
     "output_type": "execute_result"
    }
   ],
   "source": [
    "data.describe()"
   ]
  },
  {
   "cell_type": "code",
   "execution_count": 6,
   "id": "9cd0e241",
   "metadata": {},
   "outputs": [
    {
     "data": {
      "text/html": [
       "<div>\n",
       "<style scoped>\n",
       "    .dataframe tbody tr th:only-of-type {\n",
       "        vertical-align: middle;\n",
       "    }\n",
       "\n",
       "    .dataframe tbody tr th {\n",
       "        vertical-align: top;\n",
       "    }\n",
       "\n",
       "    .dataframe thead th {\n",
       "        text-align: right;\n",
       "    }\n",
       "</style>\n",
       "<table border=\"1\" class=\"dataframe\">\n",
       "  <thead>\n",
       "    <tr style=\"text-align: right;\">\n",
       "      <th></th>\n",
       "      <th>Outage_sec_perweek</th>\n",
       "      <th>Tenure</th>\n",
       "      <th>MonthlyCharge</th>\n",
       "      <th>Bandwidth_GB_Year</th>\n",
       "    </tr>\n",
       "  </thead>\n",
       "  <tbody>\n",
       "    <tr>\n",
       "      <th>0</th>\n",
       "      <td>-0.679978</td>\n",
       "      <td>-1.048746</td>\n",
       "      <td>-0.003943</td>\n",
       "      <td>-1.138487</td>\n",
       "    </tr>\n",
       "    <tr>\n",
       "      <th>1</th>\n",
       "      <td>0.570331</td>\n",
       "      <td>-1.262001</td>\n",
       "      <td>1.630326</td>\n",
       "      <td>-1.185876</td>\n",
       "    </tr>\n",
       "    <tr>\n",
       "      <th>2</th>\n",
       "      <td>0.252347</td>\n",
       "      <td>-0.709940</td>\n",
       "      <td>-0.295225</td>\n",
       "      <td>-0.612138</td>\n",
       "    </tr>\n",
       "    <tr>\n",
       "      <th>3</th>\n",
       "      <td>1.650506</td>\n",
       "      <td>-0.659524</td>\n",
       "      <td>-1.226521</td>\n",
       "      <td>-0.561857</td>\n",
       "    </tr>\n",
       "    <tr>\n",
       "      <th>4</th>\n",
       "      <td>-0.623156</td>\n",
       "      <td>-1.242551</td>\n",
       "      <td>-0.528086</td>\n",
       "      <td>-1.428184</td>\n",
       "    </tr>\n",
       "  </tbody>\n",
       "</table>\n",
       "</div>"
      ],
      "text/plain": [
       "   Outage_sec_perweek    Tenure  MonthlyCharge  Bandwidth_GB_Year\n",
       "0           -0.679978 -1.048746      -0.003943          -1.138487\n",
       "1            0.570331 -1.262001       1.630326          -1.185876\n",
       "2            0.252347 -0.709940      -0.295225          -0.612138\n",
       "3            1.650506 -0.659524      -1.226521          -0.561857\n",
       "4           -0.623156 -1.242551      -0.528086          -1.428184"
      ]
     },
     "execution_count": 6,
     "metadata": {},
     "output_type": "execute_result"
    }
   ],
   "source": [
    "# Standarized data for PCA analysis\n",
    "scaler = StandardScaler()\n",
    "scaled_data = pd.DataFrame(scaler.fit_transform(data), columns = data.columns)\n",
    "scaled_data.head()"
   ]
  },
  {
   "cell_type": "code",
   "execution_count": 7,
   "id": "9767278c",
   "metadata": {},
   "outputs": [],
   "source": [
    "scaled_data.to_csv(r'prepared_dataset.csv', index=False)"
   ]
  },
  {
   "cell_type": "markdown",
   "id": "d847d29f",
   "metadata": {},
   "source": [
    "### Analysis"
   ]
  },
  {
   "cell_type": "code",
   "execution_count": 8,
   "id": "d5601107",
   "metadata": {},
   "outputs": [],
   "source": [
    "# Component extraction\n",
    "pca= PCA(n_components=data.shape[1], random_state=20)\n",
    "\n",
    "# PCA fitting\n",
    "pca.fit(scaled_data)\n",
    "\n",
    "# PCA transform\n",
    "customer_pca = pca.transform(scaled_data)"
   ]
  },
  {
   "cell_type": "code",
   "execution_count": 9,
   "id": "578c3e22",
   "metadata": {},
   "outputs": [
    {
     "data": {
      "text/html": [
       "<div>\n",
       "<style scoped>\n",
       "    .dataframe tbody tr th:only-of-type {\n",
       "        vertical-align: middle;\n",
       "    }\n",
       "\n",
       "    .dataframe tbody tr th {\n",
       "        vertical-align: top;\n",
       "    }\n",
       "\n",
       "    .dataframe thead th {\n",
       "        text-align: right;\n",
       "    }\n",
       "</style>\n",
       "<table border=\"1\" class=\"dataframe\">\n",
       "  <thead>\n",
       "    <tr style=\"text-align: right;\">\n",
       "      <th></th>\n",
       "      <th>PC1</th>\n",
       "      <th>PC2</th>\n",
       "      <th>PC3</th>\n",
       "      <th>PC4</th>\n",
       "    </tr>\n",
       "  </thead>\n",
       "  <tbody>\n",
       "    <tr>\n",
       "      <th>0</th>\n",
       "      <td>-1.549525</td>\n",
       "      <td>-0.431810</td>\n",
       "      <td>0.516467</td>\n",
       "      <td>-0.064670</td>\n",
       "    </tr>\n",
       "    <tr>\n",
       "      <th>1</th>\n",
       "      <td>-1.659573</td>\n",
       "      <td>1.616766</td>\n",
       "      <td>0.783327</td>\n",
       "      <td>-0.021744</td>\n",
       "    </tr>\n",
       "    <tr>\n",
       "      <th>2</th>\n",
       "      <td>-0.944538</td>\n",
       "      <td>0.001214</td>\n",
       "      <td>-0.361592</td>\n",
       "      <td>0.081626</td>\n",
       "    </tr>\n",
       "    <tr>\n",
       "      <th>3</th>\n",
       "      <td>-0.903109</td>\n",
       "      <td>0.321420</td>\n",
       "      <td>-2.011196</td>\n",
       "      <td>0.123903</td>\n",
       "    </tr>\n",
       "    <tr>\n",
       "      <th>4</th>\n",
       "      <td>-1.912215</td>\n",
       "      <td>-0.754555</td>\n",
       "      <td>0.114259</td>\n",
       "      <td>-0.108945</td>\n",
       "    </tr>\n",
       "  </tbody>\n",
       "</table>\n",
       "</div>"
      ],
      "text/plain": [
       "        PC1       PC2       PC3       PC4\n",
       "0 -1.549525 -0.431810  0.516467 -0.064670\n",
       "1 -1.659573  1.616766  0.783327 -0.021744\n",
       "2 -0.944538  0.001214 -0.361592  0.081626\n",
       "3 -0.903109  0.321420 -2.011196  0.123903\n",
       "4 -1.912215 -0.754555  0.114259 -0.108945"
      ]
     },
     "execution_count": 9,
     "metadata": {},
     "output_type": "execute_result"
    }
   ],
   "source": [
    "# DataFrame of all PCA\n",
    "customer_pca_df = pd.DataFrame(customer_pca,columns = ['PC1','PC2','PC3','PC4'])\n",
    "customer_pca_df.head()"
   ]
  },
  {
   "cell_type": "code",
   "execution_count": 10,
   "id": "dc31f401",
   "metadata": {
    "scrolled": false
   },
   "outputs": [
    {
     "data": {
      "text/html": [
       "<div>\n",
       "<style scoped>\n",
       "    .dataframe tbody tr th:only-of-type {\n",
       "        vertical-align: middle;\n",
       "    }\n",
       "\n",
       "    .dataframe tbody tr th {\n",
       "        vertical-align: top;\n",
       "    }\n",
       "\n",
       "    .dataframe thead th {\n",
       "        text-align: right;\n",
       "    }\n",
       "</style>\n",
       "<table border=\"1\" class=\"dataframe\">\n",
       "  <thead>\n",
       "    <tr style=\"text-align: right;\">\n",
       "      <th></th>\n",
       "      <th>PC1</th>\n",
       "      <th>PC2</th>\n",
       "      <th>PC3</th>\n",
       "      <th>PC4</th>\n",
       "    </tr>\n",
       "  </thead>\n",
       "  <tbody>\n",
       "    <tr>\n",
       "      <th>Outage_sec_perweek</th>\n",
       "      <td>0.005898</td>\n",
       "      <td>0.703255</td>\n",
       "      <td>-0.710914</td>\n",
       "      <td>0.000047</td>\n",
       "    </tr>\n",
       "    <tr>\n",
       "      <th>Tenure</th>\n",
       "      <td>0.705850</td>\n",
       "      <td>-0.046197</td>\n",
       "      <td>-0.039890</td>\n",
       "      <td>-0.705727</td>\n",
       "    </tr>\n",
       "    <tr>\n",
       "      <th>MonthlyCharge</th>\n",
       "      <td>0.040761</td>\n",
       "      <td>0.709435</td>\n",
       "      <td>0.702127</td>\n",
       "      <td>-0.045358</td>\n",
       "    </tr>\n",
       "    <tr>\n",
       "      <th>Bandwidth_GB_Year</th>\n",
       "      <td>0.707163</td>\n",
       "      <td>-0.000646</td>\n",
       "      <td>0.005274</td>\n",
       "      <td>0.707031</td>\n",
       "    </tr>\n",
       "  </tbody>\n",
       "</table>\n",
       "</div>"
      ],
      "text/plain": [
       "                         PC1       PC2       PC3       PC4\n",
       "Outage_sec_perweek  0.005898  0.703255 -0.710914  0.000047\n",
       "Tenure              0.705850 -0.046197 -0.039890 -0.705727\n",
       "MonthlyCharge       0.040761  0.709435  0.702127 -0.045358\n",
       "Bandwidth_GB_Year   0.707163 -0.000646  0.005274  0.707031"
      ]
     },
     "execution_count": 10,
     "metadata": {},
     "output_type": "execute_result"
    }
   ],
   "source": [
    "# Loading and identifying the PCA from the Customer dataframe\n",
    "loading = pd.DataFrame(pca.components_.T, columns = ['PC1','PC2','PC3','PC4'], index=data.columns)\n",
    "loading"
   ]
  },
  {
   "cell_type": "code",
   "execution_count": 11,
   "id": "fcf1c79b",
   "metadata": {
    "scrolled": true
   },
   "outputs": [
    {
     "name": "stdout",
     "output_type": "stream",
     "text": [
      "Variance explained by all PCA =  100.00000000000001\n"
     ]
    }
   ],
   "source": [
    "variance_explained = pca.explained_variance_ratio_*100\n",
    "print('Variance explained by all PCA = ', sum(variance_explained))"
   ]
  },
  {
   "cell_type": "markdown",
   "id": "3aa68520",
   "metadata": {},
   "source": [
    "### Caputured Variance for each PCA"
   ]
  },
  {
   "cell_type": "code",
   "execution_count": 12,
   "id": "b42b97e8",
   "metadata": {},
   "outputs": [
    {
     "data": {
      "text/html": [
       "<div>\n",
       "<style scoped>\n",
       "    .dataframe tbody tr th:only-of-type {\n",
       "        vertical-align: middle;\n",
       "    }\n",
       "\n",
       "    .dataframe tbody tr th {\n",
       "        vertical-align: top;\n",
       "    }\n",
       "\n",
       "    .dataframe thead th {\n",
       "        text-align: right;\n",
       "    }\n",
       "</style>\n",
       "<table border=\"1\" class=\"dataframe\">\n",
       "  <thead>\n",
       "    <tr style=\"text-align: right;\">\n",
       "      <th></th>\n",
       "      <th>Captured Variance per PC</th>\n",
       "    </tr>\n",
       "  </thead>\n",
       "  <tbody>\n",
       "    <tr>\n",
       "      <th>Outage_sec_perweek</th>\n",
       "      <td>49.83</td>\n",
       "    </tr>\n",
       "    <tr>\n",
       "      <th>Tenure</th>\n",
       "      <td>25.51</td>\n",
       "    </tr>\n",
       "    <tr>\n",
       "      <th>MonthlyCharge</th>\n",
       "      <td>24.50</td>\n",
       "    </tr>\n",
       "    <tr>\n",
       "      <th>Bandwidth_GB_Year</th>\n",
       "      <td>0.16</td>\n",
       "    </tr>\n",
       "  </tbody>\n",
       "</table>\n",
       "</div>"
      ],
      "text/plain": [
       "                    Captured Variance per PC\n",
       "Outage_sec_perweek                     49.83\n",
       "Tenure                                 25.51\n",
       "MonthlyCharge                          24.50\n",
       "Bandwidth_GB_Year                       0.16"
      ]
     },
     "execution_count": 12,
     "metadata": {},
     "output_type": "execute_result"
    }
   ],
   "source": [
    "variance_explained_df = pd.DataFrame(variance_explained.round(2),\n",
    "                                     columns = ['Captured Variance per PC'], index=data.columns)\n",
    "variance_explained_df"
   ]
  },
  {
   "cell_type": "markdown",
   "id": "9cdef271",
   "metadata": {},
   "source": [
    "### Cummulative sum by percentage"
   ]
  },
  {
   "cell_type": "code",
   "execution_count": 13,
   "id": "d109d45e",
   "metadata": {},
   "outputs": [
    {
     "data": {
      "text/plain": [
       "array([ 49.82927865,  75.34127286,  99.83854226, 100.        ])"
      ]
     },
     "execution_count": 13,
     "metadata": {},
     "output_type": "execute_result"
    }
   ],
   "source": [
    "pca_cumsum = np.cumsum(pca.explained_variance_ratio_*100)\n",
    "pca_cumsum"
   ]
  },
  {
   "cell_type": "code",
   "execution_count": 14,
   "id": "1c6602b6",
   "metadata": {},
   "outputs": [
    {
     "data": {
      "image/png": "[encoded data removed]",
      "text/plain": [
       "<Figure size 432x288 with 1 Axes>"
      ]
     },
     "metadata": {
      "needs_background": "light"
     },
     "output_type": "display_data"
    }
   ],
   "source": [
    "# Scree plot showing the PCs\n",
    "# Below show the 100 percent of the variance is explained by 2 component \n",
    "plt.plot(pca_cumsum)\n",
    "plt.xlabel('Principal Components')\n",
    "plt.ylabel('Explained Variance')\n",
    "plt.title('Elbow plot')\n",
    "plt.show()"
   ]
  },
  {
   "cell_type": "markdown",
   "id": "4c9bb759",
   "metadata": {},
   "source": [
    "### The plot above explained the 3 Pcs store 100% of variablity"
   ]
  },
  {
   "cell_type": "code",
   "execution_count": 15,
   "id": "32b14c08",
   "metadata": {},
   "outputs": [
    {
     "name": "stdout",
     "output_type": "stream",
     "text": [
      "Variance explained by First PC:  49.82927864725804\n",
      "Variance explained by Second PC:  75.34127285664778\n",
      "Variance explained by Third PC:  99.83854226356763\n",
      "Variance explained by First 3 PCs:  100.00000000000001\n"
     ]
    }
   ],
   "source": [
    "print('Variance explained by First PC: ',pca_cumsum[0])\n",
    "print('Variance explained by Second PC: ',pca_cumsum[1])\n",
    "print('Variance explained by Third PC: ',pca_cumsum[2])\n",
    "print('Variance explained by First 3 PCs: ',pca_cumsum[3])"
   ]
  },
  {
   "cell_type": "markdown",
   "id": "6380b8b1",
   "metadata": {},
   "source": [
    "### Two-dimensions capture 75% of variability"
   ]
  },
  {
   "cell_type": "code",
   "execution_count": 16,
   "id": "a686e18f",
   "metadata": {},
   "outputs": [],
   "source": [
    "pca2 = PCA(n_components=2, random_state=20)\n",
    "pca2.fit(scaled_data)\n",
    "pca2_transform = pca2.transform(scaled_data)"
   ]
  },
  {
   "cell_type": "code",
   "execution_count": 17,
   "id": "7a484217",
   "metadata": {},
   "outputs": [
    {
     "data": {
      "text/html": [
       "<div>\n",
       "<style scoped>\n",
       "    .dataframe tbody tr th:only-of-type {\n",
       "        vertical-align: middle;\n",
       "    }\n",
       "\n",
       "    .dataframe tbody tr th {\n",
       "        vertical-align: top;\n",
       "    }\n",
       "\n",
       "    .dataframe thead th {\n",
       "        text-align: right;\n",
       "    }\n",
       "</style>\n",
       "<table border=\"1\" class=\"dataframe\">\n",
       "  <thead>\n",
       "    <tr style=\"text-align: right;\">\n",
       "      <th></th>\n",
       "      <th>PC1</th>\n",
       "      <th>PC2</th>\n",
       "    </tr>\n",
       "  </thead>\n",
       "  <tbody>\n",
       "    <tr>\n",
       "      <th>0</th>\n",
       "      <td>-1.549525</td>\n",
       "      <td>-0.431810</td>\n",
       "    </tr>\n",
       "    <tr>\n",
       "      <th>1</th>\n",
       "      <td>-1.659573</td>\n",
       "      <td>1.616766</td>\n",
       "    </tr>\n",
       "    <tr>\n",
       "      <th>2</th>\n",
       "      <td>-0.944538</td>\n",
       "      <td>0.001214</td>\n",
       "    </tr>\n",
       "    <tr>\n",
       "      <th>3</th>\n",
       "      <td>-0.903109</td>\n",
       "      <td>0.321420</td>\n",
       "    </tr>\n",
       "    <tr>\n",
       "      <th>4</th>\n",
       "      <td>-1.912215</td>\n",
       "      <td>-0.754555</td>\n",
       "    </tr>\n",
       "  </tbody>\n",
       "</table>\n",
       "</div>"
      ],
      "text/plain": [
       "        PC1       PC2\n",
       "0 -1.549525 -0.431810\n",
       "1 -1.659573  1.616766\n",
       "2 -0.944538  0.001214\n",
       "3 -0.903109  0.321420\n",
       "4 -1.912215 -0.754555"
      ]
     },
     "execution_count": 17,
     "metadata": {},
     "output_type": "execute_result"
    }
   ],
   "source": [
    "pc2 = pd.DataFrame(data = pca2_transform, columns=['PC1','PC2'])\n",
    "pc2.head()"
   ]
  }
 ],
 "metadata": {
  "kernelspec": {
   "display_name": "Python 3 (ipykernel)",
   "language": "python",
   "name": "python3"
  },
  "language_info": {
   "codemirror_mode": {
    "name": "ipython",
    "version": 3
   },
   "file_extension": ".py",
   "mimetype": "text/x-python",
   "name": "python",
   "nbconvert_exporter": "python",
   "pygments_lexer": "ipython3",
   "version": "3.9.12"
  }
 },
 "nbformat": 4,
 "nbformat_minor": 5
}
