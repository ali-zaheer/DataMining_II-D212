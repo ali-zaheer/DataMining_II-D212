{
 "cells": [
  {
   "cell_type": "code",
   "execution_count": 1,
   "id": "a566ed8c",
   "metadata": {},
   "outputs": [],
   "source": [
    "import pandas as pd\n",
    "import numpy as np\n",
    "import jedi\n",
    "from sklearn.cluster import KMeans\n",
    "from sklearn.preprocessing import StandardScaler\n",
    "from sklearn import metrics\n",
    "from sklearn.pipeline import make_pipeline\n",
    "\n",
    "# Visual libraries\n",
    "import matplotlib.pyplot as plt\n",
    "\n",
    "#Show all Columns and Rows\n",
    "pd.options.display.max_columns = None\n",
    "pd.options.display.max_rows = None\n",
    "\n",
    "# Load data set\n",
    "data_churn = pd.read_csv('churn_clean.csv')\n",
    "\n",
    "# Amend columns with no names\n",
    "data_churn = data_churn.rename(columns=({ 'Item1': 'Timely_Response', 'Item2':'Timely_Fixes', 'Item3':'Timely_Replacements', \n",
    "                         'Item4':'Reliability', 'Item5':'Options', 'Item6':'Respectful_Response',\n",
    "                         'Item7':'Courteous_Exchange', 'Item8':'Evidence_of_active_listening'}))"
   ]
  },
  {
   "cell_type": "markdown",
   "id": "1a2e7958",
   "metadata": {},
   "source": [
    "### Data Prep"
   ]
  },
  {
   "cell_type": "code",
   "execution_count": 2,
   "id": "45bd179f",
   "metadata": {},
   "outputs": [],
   "source": [
    "# Dropping columns that I think are not relavant to the analysis\n",
    "data_churn = data_churn.drop(columns= [\"CaseOrder\",\"Interaction\", \"UID\", \"City\", \"State\", \"Multiple\",\"Phone\",\n",
    "                    \"Techie\",\"PaperlessBilling\",\"Yearly_equip_failure\",\"County\", \"Zip\", \"Lat\", \"Lng\",\"MonthlyCharge\",\"Email\",\n",
    "                    \"Area\", \"TimeZone\", \"Job\", \"PaymentMethod\", \"DeviceProtection\",\"OnlineBackup\",\"Reliability\",\"Marital\",\n",
    "                    \"OnlineBackup\",\"OnlineBackup\", \"OnlineBackup\",\"Port_modem\",\"OnlineSecurity\", \"Gender\",\"Options\",\n",
    "                    \"TechSupport\",\"Contract\",\"Tablet\",\"InternetService\", \"StreamingTV\", \"StreamingMovies\",\n",
    "                     \"Contacts\",\"Population\", \"Outage_sec_perweek\",\"Timely_Response\", \"Timely_Fixes\", \"Timely_Replacements\",\n",
    "                      \"Respectful_Response\",  \"Courteous_Exchange\", \"Evidence_of_active_listening\"\n",
    "                           ])"
   ]
  },
  {
   "cell_type": "code",
   "execution_count": 3,
   "id": "c514e68b",
   "metadata": {},
   "outputs": [
    {
     "data": {
      "text/html": [
       "<div>\n",
       "<style scoped>\n",
       "    .dataframe tbody tr th:only-of-type {\n",
       "        vertical-align: middle;\n",
       "    }\n",
       "\n",
       "    .dataframe tbody tr th {\n",
       "        vertical-align: top;\n",
       "    }\n",
       "\n",
       "    .dataframe thead th {\n",
       "        text-align: right;\n",
       "    }\n",
       "</style>\n",
       "<table border=\"1\" class=\"dataframe\">\n",
       "  <thead>\n",
       "    <tr style=\"text-align: right;\">\n",
       "      <th></th>\n",
       "      <th>Customer_id</th>\n",
       "      <th>Children</th>\n",
       "      <th>Age</th>\n",
       "      <th>Income</th>\n",
       "      <th>Churn</th>\n",
       "      <th>Tenure</th>\n",
       "      <th>Bandwidth_GB_Year</th>\n",
       "    </tr>\n",
       "  </thead>\n",
       "  <tbody>\n",
       "    <tr>\n",
       "      <th>0</th>\n",
       "      <td>K409198</td>\n",
       "      <td>0</td>\n",
       "      <td>68</td>\n",
       "      <td>28561.99</td>\n",
       "      <td>No</td>\n",
       "      <td>6.795513</td>\n",
       "      <td>904.536110</td>\n",
       "    </tr>\n",
       "    <tr>\n",
       "      <th>1</th>\n",
       "      <td>S120509</td>\n",
       "      <td>1</td>\n",
       "      <td>27</td>\n",
       "      <td>21704.77</td>\n",
       "      <td>Yes</td>\n",
       "      <td>1.156681</td>\n",
       "      <td>800.982766</td>\n",
       "    </tr>\n",
       "    <tr>\n",
       "      <th>2</th>\n",
       "      <td>K191035</td>\n",
       "      <td>4</td>\n",
       "      <td>50</td>\n",
       "      <td>9609.57</td>\n",
       "      <td>No</td>\n",
       "      <td>15.754144</td>\n",
       "      <td>2054.706961</td>\n",
       "    </tr>\n",
       "    <tr>\n",
       "      <th>3</th>\n",
       "      <td>D90850</td>\n",
       "      <td>1</td>\n",
       "      <td>48</td>\n",
       "      <td>18925.23</td>\n",
       "      <td>No</td>\n",
       "      <td>17.087227</td>\n",
       "      <td>2164.579412</td>\n",
       "    </tr>\n",
       "    <tr>\n",
       "      <th>4</th>\n",
       "      <td>K662701</td>\n",
       "      <td>0</td>\n",
       "      <td>83</td>\n",
       "      <td>40074.19</td>\n",
       "      <td>Yes</td>\n",
       "      <td>1.670972</td>\n",
       "      <td>271.493436</td>\n",
       "    </tr>\n",
       "  </tbody>\n",
       "</table>\n",
       "</div>"
      ],
      "text/plain": [
       "  Customer_id  Children  Age    Income Churn     Tenure  Bandwidth_GB_Year\n",
       "0     K409198         0   68  28561.99    No   6.795513         904.536110\n",
       "1     S120509         1   27  21704.77   Yes   1.156681         800.982766\n",
       "2     K191035         4   50   9609.57    No  15.754144        2054.706961\n",
       "3      D90850         1   48  18925.23    No  17.087227        2164.579412\n",
       "4     K662701         0   83  40074.19   Yes   1.670972         271.493436"
      ]
     },
     "execution_count": 3,
     "metadata": {},
     "output_type": "execute_result"
    }
   ],
   "source": [
    "data_churn.head()"
   ]
  },
  {
   "cell_type": "code",
   "execution_count": 4,
   "id": "3c56fba2",
   "metadata": {},
   "outputs": [
    {
     "data": {
      "text/html": [
       "<div>\n",
       "<style scoped>\n",
       "    .dataframe tbody tr th:only-of-type {\n",
       "        vertical-align: middle;\n",
       "    }\n",
       "\n",
       "    .dataframe tbody tr th {\n",
       "        vertical-align: top;\n",
       "    }\n",
       "\n",
       "    .dataframe thead th {\n",
       "        text-align: right;\n",
       "    }\n",
       "</style>\n",
       "<table border=\"1\" class=\"dataframe\">\n",
       "  <thead>\n",
       "    <tr style=\"text-align: right;\">\n",
       "      <th></th>\n",
       "      <th>Children</th>\n",
       "      <th>Age</th>\n",
       "      <th>Income</th>\n",
       "      <th>Tenure</th>\n",
       "      <th>Bandwidth_GB_Year</th>\n",
       "    </tr>\n",
       "  </thead>\n",
       "  <tbody>\n",
       "    <tr>\n",
       "      <th>count</th>\n",
       "      <td>10000.0000</td>\n",
       "      <td>10000.000000</td>\n",
       "      <td>10000.000000</td>\n",
       "      <td>10000.000000</td>\n",
       "      <td>10000.000000</td>\n",
       "    </tr>\n",
       "    <tr>\n",
       "      <th>mean</th>\n",
       "      <td>2.0877</td>\n",
       "      <td>53.078400</td>\n",
       "      <td>39806.926771</td>\n",
       "      <td>34.526188</td>\n",
       "      <td>3392.341550</td>\n",
       "    </tr>\n",
       "    <tr>\n",
       "      <th>std</th>\n",
       "      <td>2.1472</td>\n",
       "      <td>20.698882</td>\n",
       "      <td>28199.916702</td>\n",
       "      <td>26.443063</td>\n",
       "      <td>2185.294852</td>\n",
       "    </tr>\n",
       "    <tr>\n",
       "      <th>min</th>\n",
       "      <td>0.0000</td>\n",
       "      <td>18.000000</td>\n",
       "      <td>348.670000</td>\n",
       "      <td>1.000259</td>\n",
       "      <td>155.506715</td>\n",
       "    </tr>\n",
       "    <tr>\n",
       "      <th>25%</th>\n",
       "      <td>0.0000</td>\n",
       "      <td>35.000000</td>\n",
       "      <td>19224.717500</td>\n",
       "      <td>7.917694</td>\n",
       "      <td>1236.470827</td>\n",
       "    </tr>\n",
       "    <tr>\n",
       "      <th>50%</th>\n",
       "      <td>1.0000</td>\n",
       "      <td>53.000000</td>\n",
       "      <td>33170.605000</td>\n",
       "      <td>35.430507</td>\n",
       "      <td>3279.536903</td>\n",
       "    </tr>\n",
       "    <tr>\n",
       "      <th>75%</th>\n",
       "      <td>3.0000</td>\n",
       "      <td>71.000000</td>\n",
       "      <td>53246.170000</td>\n",
       "      <td>61.479795</td>\n",
       "      <td>5586.141370</td>\n",
       "    </tr>\n",
       "    <tr>\n",
       "      <th>max</th>\n",
       "      <td>10.0000</td>\n",
       "      <td>89.000000</td>\n",
       "      <td>258900.700000</td>\n",
       "      <td>71.999280</td>\n",
       "      <td>7158.981530</td>\n",
       "    </tr>\n",
       "  </tbody>\n",
       "</table>\n",
       "</div>"
      ],
      "text/plain": [
       "         Children           Age         Income        Tenure  \\\n",
       "count  10000.0000  10000.000000   10000.000000  10000.000000   \n",
       "mean       2.0877     53.078400   39806.926771     34.526188   \n",
       "std        2.1472     20.698882   28199.916702     26.443063   \n",
       "min        0.0000     18.000000     348.670000      1.000259   \n",
       "25%        0.0000     35.000000   19224.717500      7.917694   \n",
       "50%        1.0000     53.000000   33170.605000     35.430507   \n",
       "75%        3.0000     71.000000   53246.170000     61.479795   \n",
       "max       10.0000     89.000000  258900.700000     71.999280   \n",
       "\n",
       "       Bandwidth_GB_Year  \n",
       "count       10000.000000  \n",
       "mean         3392.341550  \n",
       "std          2185.294852  \n",
       "min           155.506715  \n",
       "25%          1236.470827  \n",
       "50%          3279.536903  \n",
       "75%          5586.141370  \n",
       "max          7158.981530  "
      ]
     },
     "execution_count": 4,
     "metadata": {},
     "output_type": "execute_result"
    }
   ],
   "source": [
    "data_churn.describe()"
   ]
  },
  {
   "cell_type": "code",
   "execution_count": 5,
   "id": "b3bc7a71",
   "metadata": {},
   "outputs": [],
   "source": [
    "#drop categorical data\n",
    "data = data_churn[['Children', 'Age','Income','Tenure','Bandwidth_GB_Year']]"
   ]
  },
  {
   "cell_type": "code",
   "execution_count": 6,
   "id": "9cd0e241",
   "metadata": {},
   "outputs": [
    {
     "data": {
      "text/html": [
       "<div>\n",
       "<style scoped>\n",
       "    .dataframe tbody tr th:only-of-type {\n",
       "        vertical-align: middle;\n",
       "    }\n",
       "\n",
       "    .dataframe tbody tr th {\n",
       "        vertical-align: top;\n",
       "    }\n",
       "\n",
       "    .dataframe thead th {\n",
       "        text-align: right;\n",
       "    }\n",
       "</style>\n",
       "<table border=\"1\" class=\"dataframe\">\n",
       "  <thead>\n",
       "    <tr style=\"text-align: right;\">\n",
       "      <th></th>\n",
       "      <th>Children</th>\n",
       "      <th>Age</th>\n",
       "      <th>Income</th>\n",
       "      <th>Tenure</th>\n",
       "      <th>Bandwidth_GB_Year</th>\n",
       "    </tr>\n",
       "  </thead>\n",
       "  <tbody>\n",
       "    <tr>\n",
       "      <th>0</th>\n",
       "      <td>-0.972338</td>\n",
       "      <td>0.720925</td>\n",
       "      <td>-0.398778</td>\n",
       "      <td>-1.048746</td>\n",
       "      <td>-1.138487</td>\n",
       "    </tr>\n",
       "    <tr>\n",
       "      <th>1</th>\n",
       "      <td>-0.506592</td>\n",
       "      <td>-1.259957</td>\n",
       "      <td>-0.641954</td>\n",
       "      <td>-1.262001</td>\n",
       "      <td>-1.185876</td>\n",
       "    </tr>\n",
       "    <tr>\n",
       "      <th>2</th>\n",
       "      <td>0.890646</td>\n",
       "      <td>-0.148730</td>\n",
       "      <td>-1.070885</td>\n",
       "      <td>-0.709940</td>\n",
       "      <td>-0.612138</td>\n",
       "    </tr>\n",
       "    <tr>\n",
       "      <th>3</th>\n",
       "      <td>-0.506592</td>\n",
       "      <td>-0.245359</td>\n",
       "      <td>-0.740525</td>\n",
       "      <td>-0.659524</td>\n",
       "      <td>-0.561857</td>\n",
       "    </tr>\n",
       "    <tr>\n",
       "      <th>4</th>\n",
       "      <td>-0.972338</td>\n",
       "      <td>1.445638</td>\n",
       "      <td>0.009478</td>\n",
       "      <td>-1.242551</td>\n",
       "      <td>-1.428184</td>\n",
       "    </tr>\n",
       "  </tbody>\n",
       "</table>\n",
       "</div>"
      ],
      "text/plain": [
       "   Children       Age    Income    Tenure  Bandwidth_GB_Year\n",
       "0 -0.972338  0.720925 -0.398778 -1.048746          -1.138487\n",
       "1 -0.506592 -1.259957 -0.641954 -1.262001          -1.185876\n",
       "2  0.890646 -0.148730 -1.070885 -0.709940          -0.612138\n",
       "3 -0.506592 -0.245359 -0.740525 -0.659524          -0.561857\n",
       "4 -0.972338  1.445638  0.009478 -1.242551          -1.428184"
      ]
     },
     "execution_count": 6,
     "metadata": {},
     "output_type": "execute_result"
    }
   ],
   "source": [
    "# Standarized data for KMeans analysis\n",
    "scaler = StandardScaler()\n",
    "scaled_data_array = scaler.fit_transform(data)\n",
    "scaled_data = pd.DataFrame(scaled_data_array, columns = data.columns)\n",
    "scaled_data.head()"
   ]
  },
  {
   "cell_type": "code",
   "execution_count": 7,
   "id": "f160a558",
   "metadata": {},
   "outputs": [],
   "source": [
    "# Prepared dataset in the root folder 'prepared_dataset.csv'\n",
    "#scaled_data.to_csv('prepared_dataset.csv')"
   ]
  },
  {
   "cell_type": "markdown",
   "id": "d847d29f",
   "metadata": {},
   "source": [
    "### Analysis"
   ]
  },
  {
   "cell_type": "code",
   "execution_count": 8,
   "id": "41947229",
   "metadata": {},
   "outputs": [],
   "source": [
    "# Identify how many clusters are needed\n",
    "ks = range(1, 10)\n",
    "inertias= []\n",
    "for k in ks:\n",
    "    model = KMeans(n_clusters=k)\n",
    "    model.fit(scaled_data)\n",
    "    inertias.append(model.inertia_)"
   ]
  },
  {
   "cell_type": "code",
   "execution_count": 9,
   "id": "45fd88a6",
   "metadata": {
    "scrolled": true
   },
   "outputs": [
    {
     "data": {
      "image/png": "[encoded data removed]",
      "text/plain": [
       "<Figure size 432x288 with 1 Axes>"
      ]
     },
     "metadata": {
      "needs_background": "light"
     },
     "output_type": "display_data"
    }
   ],
   "source": [
    "# Plot ks vs inertias\n",
    "plt.plot(ks, inertias, '-o')\n",
    "plt.xlabel('number of clusters, k')\n",
    "plt.ylabel('inertia')\n",
    "plt.xticks(ks)\n",
    "plt.show()"
   ]
  },
  {
   "cell_type": "code",
   "execution_count": 10,
   "id": "21a2b88c",
   "metadata": {
    "scrolled": true
   },
   "outputs": [
    {
     "data": {
      "text/plain": [
       "KMeans(n_clusters=2)"
      ]
     },
     "execution_count": 10,
     "metadata": {},
     "output_type": "execute_result"
    }
   ],
   "source": [
    "# Create KMeans cluster\n",
    "model = KMeans(n_clusters=2)\n",
    "model.fit(scaled_data)"
   ]
  },
  {
   "cell_type": "code",
   "execution_count": 11,
   "id": "3d8bd4f8",
   "metadata": {},
   "outputs": [
    {
     "name": "stdout",
     "output_type": "stream",
     "text": [
      "Predictions [1 1 1 ... 0 0 0]\n"
     ]
    }
   ],
   "source": [
    "#import numpy as np #Show all data\n",
    "#np.set_printoptions(threshold=np.inf)\n",
    "\n",
    "print('Predictions',model.labels_)"
   ]
  },
  {
   "cell_type": "code",
   "execution_count": 12,
   "id": "dab691af",
   "metadata": {},
   "outputs": [
    {
     "data": {
      "text/plain": [
       "array([[-0.00357879,  0.01937863,  0.00248056,  0.96065982,  0.95230324],\n",
       "       [ 0.00357736, -0.01937088, -0.00247957, -0.96027563, -0.9519224 ]])"
      ]
     },
     "execution_count": 12,
     "metadata": {},
     "output_type": "execute_result"
    }
   ],
   "source": [
    "# Print cluster centers\n",
    "model.cluster_centers_"
   ]
  },
  {
   "cell_type": "code",
   "execution_count": 13,
   "id": "8d539860",
   "metadata": {
    "scrolled": true
   },
   "outputs": [
    {
     "data": {
      "text/html": [
       "<div>\n",
       "<style scoped>\n",
       "    .dataframe tbody tr th:only-of-type {\n",
       "        vertical-align: middle;\n",
       "    }\n",
       "\n",
       "    .dataframe tbody tr th {\n",
       "        vertical-align: top;\n",
       "    }\n",
       "\n",
       "    .dataframe thead th {\n",
       "        text-align: right;\n",
       "    }\n",
       "</style>\n",
       "<table border=\"1\" class=\"dataframe\">\n",
       "  <thead>\n",
       "    <tr style=\"text-align: right;\">\n",
       "      <th></th>\n",
       "      <th>Customer_id</th>\n",
       "      <th>Children</th>\n",
       "      <th>Age</th>\n",
       "      <th>Income</th>\n",
       "      <th>Churn</th>\n",
       "      <th>Tenure</th>\n",
       "      <th>Bandwidth_GB_Year</th>\n",
       "      <th>label_</th>\n",
       "    </tr>\n",
       "  </thead>\n",
       "  <tbody>\n",
       "    <tr>\n",
       "      <th>0</th>\n",
       "      <td>K409198</td>\n",
       "      <td>0</td>\n",
       "      <td>68</td>\n",
       "      <td>28561.99</td>\n",
       "      <td>No</td>\n",
       "      <td>6.795513</td>\n",
       "      <td>904.536110</td>\n",
       "      <td>1</td>\n",
       "    </tr>\n",
       "    <tr>\n",
       "      <th>1</th>\n",
       "      <td>S120509</td>\n",
       "      <td>1</td>\n",
       "      <td>27</td>\n",
       "      <td>21704.77</td>\n",
       "      <td>Yes</td>\n",
       "      <td>1.156681</td>\n",
       "      <td>800.982766</td>\n",
       "      <td>1</td>\n",
       "    </tr>\n",
       "    <tr>\n",
       "      <th>2</th>\n",
       "      <td>K191035</td>\n",
       "      <td>4</td>\n",
       "      <td>50</td>\n",
       "      <td>9609.57</td>\n",
       "      <td>No</td>\n",
       "      <td>15.754144</td>\n",
       "      <td>2054.706961</td>\n",
       "      <td>1</td>\n",
       "    </tr>\n",
       "    <tr>\n",
       "      <th>3</th>\n",
       "      <td>D90850</td>\n",
       "      <td>1</td>\n",
       "      <td>48</td>\n",
       "      <td>18925.23</td>\n",
       "      <td>No</td>\n",
       "      <td>17.087227</td>\n",
       "      <td>2164.579412</td>\n",
       "      <td>1</td>\n",
       "    </tr>\n",
       "    <tr>\n",
       "      <th>4</th>\n",
       "      <td>K662701</td>\n",
       "      <td>0</td>\n",
       "      <td>83</td>\n",
       "      <td>40074.19</td>\n",
       "      <td>Yes</td>\n",
       "      <td>1.670972</td>\n",
       "      <td>271.493436</td>\n",
       "      <td>1</td>\n",
       "    </tr>\n",
       "  </tbody>\n",
       "</table>\n",
       "</div>"
      ],
      "text/plain": [
       "  Customer_id  Children  Age    Income Churn     Tenure  Bandwidth_GB_Year  \\\n",
       "0     K409198         0   68  28561.99    No   6.795513         904.536110   \n",
       "1     S120509         1   27  21704.77   Yes   1.156681         800.982766   \n",
       "2     K191035         4   50   9609.57    No  15.754144        2054.706961   \n",
       "3      D90850         1   48  18925.23    No  17.087227        2164.579412   \n",
       "4     K662701         0   83  40074.19   Yes   1.670972         271.493436   \n",
       "\n",
       "   label_  \n",
       "0       1  \n",
       "1       1  \n",
       "2       1  \n",
       "3       1  \n",
       "4       1  "
      ]
     },
     "execution_count": 13,
     "metadata": {},
     "output_type": "execute_result"
    }
   ],
   "source": [
    "# Adding a new column in the churn data frame containing KMeans labels\n",
    "data_churn['label_'] = model.labels_\n",
    "data_churn.head()"
   ]
  },
  {
   "cell_type": "code",
   "execution_count": 14,
   "id": "5c1ad4db",
   "metadata": {},
   "outputs": [
    {
     "name": "stdout",
     "output_type": "stream",
     "text": [
      "Number of customer clustered by KMeans to have churned: 2366\n",
      "Number of customer that churned from original dataset:  2650\n",
      "Number of customer clustered by KMeans to have not churned: 4715\n",
      "Number of customer that did not churned from original dataset:  7350\n"
     ]
    }
   ],
   "source": [
    "# Exploring if KMeans labels have correlation with Churn field\n",
    "print('Number of customer clustered by KMeans to have churned:',data_churn.query('label_==1 and Churn==\"Yes\"').Customer_id.count())\n",
    "print('Number of customer that churned from original dataset: ',data_churn.query('Churn==\"Yes\"').Customer_id.count())\n",
    "\n",
    "print('Number of customer clustered by KMeans to have not churned:',data_churn.query('label_==0 and Churn==\"No\"').Customer_id.count())\n",
    "print('Number of customer that did not churned from original dataset: ',data_churn.query('Churn==\"No\"').Customer_id.count())\n"
   ]
  },
  {
   "cell_type": "code",
   "execution_count": 15,
   "id": "b64f0841",
   "metadata": {},
   "outputs": [
    {
     "name": "stdout",
     "output_type": "stream",
     "text": [
      "Model Accuracy: 0.7081\n"
     ]
    }
   ],
   "source": [
    "# Data conversion\n",
    "y_actual = data_churn['Churn'].apply(lambda x: 1 if x=='Yes' else 0)\n",
    "\n",
    "# label_ added to the churned dataset\n",
    "y_pred = data_churn['label_']\n",
    "\n",
    "# Computing the accuracy score\n",
    "print('Model Accuracy:', metrics.accuracy_score(y_actual, y_pred))"
   ]
  },
  {
   "cell_type": "code",
   "execution_count": 16,
   "id": "07755ef3",
   "metadata": {},
   "outputs": [
    {
     "name": "stdout",
     "output_type": "stream",
     "text": [
      "churn     No   Yes\n",
      "labels            \n",
      "0       4715   284\n",
      "1       2635  2366\n"
     ]
    }
   ],
   "source": [
    "df = pd.DataFrame({'labels': y_pred, 'churn': data_churn['Churn']})\n",
    "\n",
    "# Create cross tabulation table\n",
    "ct = pd.crosstab(df['labels'],df['churn'])\n",
    "\n",
    "# Display ct\n",
    "print(ct)"
   ]
  }
 ],
 "metadata": {
  "kernelspec": {
   "display_name": "Python 3 (ipykernel)",
   "language": "python",
   "name": "python3"
  },
  "language_info": {
   "codemirror_mode": {
    "name": "ipython",
    "version": 3
   },
   "file_extension": ".py",
   "mimetype": "text/x-python",
   "name": "python",
   "nbconvert_exporter": "python",
   "pygments_lexer": "ipython3",
   "version": "3.9.12"
  }
 },
 "nbformat": 4,
 "nbformat_minor": 5
}
